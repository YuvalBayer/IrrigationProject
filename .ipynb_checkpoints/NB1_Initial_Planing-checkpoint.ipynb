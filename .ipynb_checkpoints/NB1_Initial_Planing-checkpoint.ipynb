{
 "cells": [
  {
   "cell_type": "markdown",
   "id": "5013340b",
   "metadata": {},
   "source": [
    "# Initial Planning\n",
    "\n",
    "****\n",
    "## Background\n",
    "****\n",
    "\n",
    "* Location: Kibutz Dafna\n",
    "* Field area: 20137 m$^2$\n",
    "* Soil: brown Rendzina\n",
    "* Crop: Avocado\n",
    "\n",
    "****\n",
    "## Plant Demand\n",
    "****\n",
    "\n",
    "* From the IMS $ET_0$ was obtained.\n",
    "* From  [University of California Division of Agriculture and Natural Resources](http://ucavo.ucr.edu/Irrigation/CropCoefficients.html) $K_c$ was obtained.\n",
    "* According to $ET_c = K_c \\times ET_0$, $ET_c$ was calculated."
   ]
  },
  {
   "cell_type": "code",
   "execution_count": null,
   "id": "55544ad7",
   "metadata": {},
   "outputs": [],
   "source": [
    "import pandas as pd\n",
    "import matplotlib.pyplot as plt\n",
    "import matplotlib.patches as mpatches\n",
    "import numpy as np\n",
    "import seaborn as sns\n",
    "sns.set_context(\"notebook\", font_scale=1.5)"
   ]
  },
  {
   "cell_type": "code",
   "execution_count": 3,
   "id": "58fef129",
   "metadata": {},
   "outputs": [
    {
     "data": {
      "text/html": [
       "<div>\n",
       "<style scoped>\n",
       "    .dataframe tbody tr th:only-of-type {\n",
       "        vertical-align: middle;\n",
       "    }\n",
       "\n",
       "    .dataframe tbody tr th {\n",
       "        vertical-align: top;\n",
       "    }\n",
       "\n",
       "    .dataframe thead th {\n",
       "        text-align: right;\n",
       "    }\n",
       "</style>\n",
       "<table border=\"1\" class=\"dataframe\">\n",
       "  <thead>\n",
       "    <tr style=\"text-align: right;\">\n",
       "      <th></th>\n",
       "      <th>$ET_0 $ [mm/day]</th>\n",
       "      <th>$K_c$</th>\n",
       "      <th>$ET_c $ [mm/day]</th>\n",
       "    </tr>\n",
       "    <tr>\n",
       "      <th>Month</th>\n",
       "      <th></th>\n",
       "      <th></th>\n",
       "      <th></th>\n",
       "    </tr>\n",
       "  </thead>\n",
       "  <tbody>\n",
       "    <tr>\n",
       "      <th>1</th>\n",
       "      <td>1.4</td>\n",
       "      <td>0.40</td>\n",
       "      <td>0.560</td>\n",
       "    </tr>\n",
       "    <tr>\n",
       "      <th>2</th>\n",
       "      <td>2.0</td>\n",
       "      <td>0.50</td>\n",
       "      <td>1.000</td>\n",
       "    </tr>\n",
       "    <tr>\n",
       "      <th>3</th>\n",
       "      <td>3.2</td>\n",
       "      <td>0.55</td>\n",
       "      <td>1.760</td>\n",
       "    </tr>\n",
       "    <tr>\n",
       "      <th>4</th>\n",
       "      <td>4.2</td>\n",
       "      <td>0.55</td>\n",
       "      <td>2.310</td>\n",
       "    </tr>\n",
       "    <tr>\n",
       "      <th>5</th>\n",
       "      <td>5.8</td>\n",
       "      <td>0.60</td>\n",
       "      <td>3.480</td>\n",
       "    </tr>\n",
       "    <tr>\n",
       "      <th>6</th>\n",
       "      <td>6.8</td>\n",
       "      <td>0.65</td>\n",
       "      <td>4.420</td>\n",
       "    </tr>\n",
       "    <tr>\n",
       "      <th>7</th>\n",
       "      <td>6.7</td>\n",
       "      <td>0.65</td>\n",
       "      <td>4.355</td>\n",
       "    </tr>\n",
       "    <tr>\n",
       "      <th>8</th>\n",
       "      <td>6.2</td>\n",
       "      <td>0.65</td>\n",
       "      <td>4.030</td>\n",
       "    </tr>\n",
       "    <tr>\n",
       "      <th>9</th>\n",
       "      <td>5.2</td>\n",
       "      <td>0.60</td>\n",
       "      <td>3.120</td>\n",
       "    </tr>\n",
       "    <tr>\n",
       "      <th>10</th>\n",
       "      <td>3.5</td>\n",
       "      <td>0.55</td>\n",
       "      <td>1.925</td>\n",
       "    </tr>\n",
       "    <tr>\n",
       "      <th>11</th>\n",
       "      <td>2.1</td>\n",
       "      <td>0.55</td>\n",
       "      <td>1.155</td>\n",
       "    </tr>\n",
       "    <tr>\n",
       "      <th>12</th>\n",
       "      <td>1.3</td>\n",
       "      <td>0.50</td>\n",
       "      <td>0.650</td>\n",
       "    </tr>\n",
       "  </tbody>\n",
       "</table>\n",
       "</div>"
      ],
      "text/plain": [
       "       $ET_0 $ [mm/day]  $K_c$  $ET_c $ [mm/day]\n",
       "Month                                           \n",
       "1                   1.4   0.40             0.560\n",
       "2                   2.0   0.50             1.000\n",
       "3                   3.2   0.55             1.760\n",
       "4                   4.2   0.55             2.310\n",
       "5                   5.8   0.60             3.480\n",
       "6                   6.8   0.65             4.420\n",
       "7                   6.7   0.65             4.355\n",
       "8                   6.2   0.65             4.030\n",
       "9                   5.2   0.60             3.120\n",
       "10                  3.5   0.55             1.925\n",
       "11                  2.1   0.55             1.155\n",
       "12                  1.3   0.50             0.650"
      ]
     },
     "execution_count": 3,
     "metadata": {},
     "output_type": "execute_result"
    }
   ],
   "source": [
    "ET0 = np.array([1.4, 2.0, 3.2, 4.2, 5.8, 6.8, 6.7, 6.2, 5.2, 3.5, 2.1, 1.3])\n",
    "Kc = np.array([0.4, 0.5, 0.55, 0.55, 0.6, 0.65, 0.65, 0.65, 0.6, 0.55, 0.55, 0.5])\n",
    "ETc = Kc * ET0\n",
    "\n",
    "plant_demand = pd.DataFrame(np.c_[ET0, Kc, ETc], index=range(1,13),\n",
    "                            columns=[r'$ET_0 $ [mm/day]',r'$K_c$',r'$ET_c $ [mm/day]'])\n",
    "plant_demand.index.name = 'Month'\n",
    "plant_demand"
   ]
  },
  {
   "cell_type": "markdown",
   "id": "45b806b0",
   "metadata": {},
   "source": [
    "Let's plot it:"
   ]
  },
  {
   "cell_type": "code",
   "execution_count": 4,
   "id": "dc311d5c",
   "metadata": {},
   "outputs": [
    {
     "data": {
      "image/png": "[encoded data removed]",
      "text/plain": [
       "<Figure size 720x576 with 3 Axes>"
      ]
     },
     "metadata": {
      "needs_background": "light"
     },
     "output_type": "display_data"
    }
   ],
   "source": [
    "COLORS = plt.cm.Set3(np.linspace(0, 1, 12))  # 12 RGB instances for 12 months colors\n",
    "\n",
    "def plot_monthly_series(axis, s):\n",
    "    label = s.name\n",
    "    color_indices = s.index - 1  # Indices to choose from colors - by month number\n",
    "    axis.bar(s.index,\n",
    "            s.values,\n",
    "            color=COLORS[color_indices],\n",
    "            edgecolor='black',\n",
    "            lw=3,\n",
    "             alpha=0.75)\n",
    "    axis.grid(axis='x')\n",
    "    axis.set_ylabel(label)\n",
    "    axis.set_ylim(0,max(s.values)*1.2)\n",
    "    # Plotting values\n",
    "    for index, value in zip(s.index, s.values):\n",
    "        if value  > 0:\n",
    "            axis.text(index, value*1.05, str(round(value, 2)), ha='center')\n",
    "\n",
    "\n",
    "fig = plt.figure(figsize=(10,8))\n",
    "axes = [plt.subplot(3,1,i) for i in range(1,4)]\n",
    "\n",
    "for i, col_name in zip(range(len(axes)), plant_demand):\n",
    "    plot_monthly_series(axes[i], plant_demand[col_name])\n",
    "    if i != len(axes)-1:\n",
    "        axes[i].set_xticklabels([])\n",
    "    else:\n",
    "        axes[i].set_xlabel('Month')\n",
    "\n",
    "#plt.savefig('plant_demand.png')"
   ]
  },
  {
   "cell_type": "markdown",
   "id": "b1e800ee",
   "metadata": {},
   "source": [
    "## Introducing Dynamic $K_c$ According to FAO\n",
    "\n",
    "In future calculations, we would like to consider 10$^\\text{th}$-day dynamic $K_c$ and not month-scale dynamic $K_c$\n",
    "\n",
    "According to [FAO](https://www.fao.org/3/x0490e/x0490e0b.htm), the trends in $K_c$ during the growing period are represented in the crop coefficient curve which requires $K_c$ in three different development stages which are:\n",
    "\n",
    "* $K_c$ during the initial stage (Kc ini) = $\\color{pink}{0.6}$\n",
    "* $K_c$ during the mid-season stage (Kc mid)= $\\color{pink}{0.85}$\n",
    "* $K_c$ at the end of the late season stage (Kc end) = $\\color{pink}{0.75}$\n",
    "\n",
    "Now we need to construct the curve according to 4 stages:\n",
    "* initial, where $K_c$ is the value as it's during the initial stage. The duration of this stage is estimated according to the last graph of $K_c$ and we assumed it's from begining of January (1) till the end of it.\n",
    "* crop development, where $K_c$ lineary increases from initial value to the mid value. We assumed that it's from the begining of February (2) until end of May (5)\n",
    "* mid-season, where $K_c$ is the value as it's during mid-stage. Estimated from the begining of June (6) until the end of September (9)\n",
    "* late season stage, where $K_c$ lineary decreases from the mid-value to end-value. We assmued it's from the end of September (9) until the end of December (12).\n",
    "\n",
    "$\\displaystyle K_c = \n",
    "\\begin{cases}\n",
    "  0.6  & 1 \\le t \\le 3  \\\\\n",
    "  0.01923t+0.5423  & 3 < t < 16  \\\\\n",
    "  0.85  & 16 \\le t \\le 27  \\\\\n",
    "  -0.011 t + 1.15 & 27 < t \\le 36  \\\\\n",
    "\\end{cases}$\n",
    "\n",
    "Where $t = \\text{10 days group of } \\{1,2,3,...,36\\}$\n",
    "\n",
    "According to this information we construct a 10$^\\text{th}$-day dynamic $K_c$"
   ]
  },
  {
   "cell_type": "code",
   "execution_count": 5,
   "id": "eaf9785a",
   "metadata": {},
   "outputs": [
    {
     "data": {
      "text/plain": [
       "<matplotlib.legend.Legend at 0x1b63242f6d0>"
      ]
     },
     "execution_count": 5,
     "metadata": {},
     "output_type": "execute_result"
    },
    {
     "data": {
      "image/png": "[encoded data removed]",
      "text/plain": [
       "<Figure size 1080x288 with 1 Axes>"
      ]
     },
     "metadata": {
      "needs_background": "light"
     },
     "output_type": "display_data"
    }
   ],
   "source": [
    "t = np.arange(1,37,1)\n",
    "Kc = np.zeros(t.shape)\n",
    "Kc = np.where(t > 0, 0.6 , Kc)\n",
    "Kc = np.where(t > 3, 0.01923 * t + 0.5423, Kc)\n",
    "Kc = np.where(t >= 16, 0.85 , Kc)\n",
    "Kc = np.where(t > 27, -0.011 * t + 1.15 , Kc)\n",
    "\n",
    "color_indices = np.array([[i,i,i] for i in range(0,12)]).flatten()\n",
    "\n",
    "sns.set_context(\"notebook\", font_scale=1.5)\n",
    "fig = plt.figure(figsize=(15,4))\n",
    "plt.bar(t, Kc, edgecolor='black', lw=3, color=COLORS[color_indices], alpha=0.75)\n",
    "plt.grid(axis='x')\n",
    "plt.xlabel(r'10$^{th}$ Days Group')\n",
    "plt.ylabel(r'$K_c$')\n",
    "plt.xlim(0.5,36.5)\n",
    "\n",
    "# Adding legend by creating patches without plotting them\n",
    "handles = []\n",
    "for m in range(1,13): # For every month\n",
    "    patch = mpatches.Patch(color=COLORS[m-1], label=str(m))\n",
    "    handles.append(patch)\n",
    "fig.legend(handles=handles, ncol=12)"
   ]
  },
  {
   "cell_type": "code",
   "execution_count": 6,
   "id": "dae5039e",
   "metadata": {},
   "outputs": [],
   "source": [
    "# Exporting Kc to excel\n",
    "df = np.c_[(color_indices + 1).reshape(-1,1),np.array([[1,2,3] for _ in range(12)]).flatten().reshape(-1,1),Kc.reshape(-1,1)]\n",
    "df = pd.DataFrame(df, columns=['Month','Tenth','Kc'])\n",
    "#df.to_excel('Kc.xlsx')"
   ]
  },
  {
   "cell_type": "markdown",
   "id": "75617bc8",
   "metadata": {},
   "source": [
    "According to that, we construct our new **monthly** Kc as the monthly mean of $K_c$. We use this one to calculate ETc for our initial planning."
   ]
  },
  {
   "cell_type": "code",
   "execution_count": 7,
   "id": "ba65ea61",
   "metadata": {},
   "outputs": [
    {
     "data": {
      "image/png": "[encoded data removed]",
      "text/plain": [
       "<Figure size 720x576 with 3 Axes>"
      ]
     },
     "metadata": {
      "needs_background": "light"
     },
     "output_type": "display_data"
    }
   ],
   "source": [
    "updated_Kc = []\n",
    "for i in range(0,36,3):\n",
    "    updated_Kc.append(np.mean(Kc[i:i+3]))\n",
    "\n",
    "ETc = np.array(updated_Kc) * ET0\n",
    "plant_demand[r'$K_c$'] = updated_Kc\n",
    "plant_demand[r'$ET_c $ [mm/day]'] = ETc\n",
    "    \n",
    "fig = plt.figure(figsize=(10,8))\n",
    "axes = [plt.subplot(3,1,i) for i in range(1,4)]\n",
    "\n",
    "for i, col_name in zip(range(len(axes)), plant_demand):\n",
    "    plot_monthly_series(axes[i], plant_demand[col_name])\n",
    "    if i != len(axes)-1:\n",
    "        axes[i].set_xticklabels([])\n",
    "    else:\n",
    "        axes[i].set_xlabel('Month')"
   ]
  },
  {
   "cell_type": "markdown",
   "id": "1dfca25b",
   "metadata": {},
   "source": [
    "****\n",
    "## Effective Rain\n",
    "****\n",
    "\n",
    "Raw monthly rainfall data was downloaded from the [IMS website](https://ims.gov.il/he) using station number 310093 for monthes october 2011 until october 2021."
   ]
  },
  {
   "cell_type": "code",
   "execution_count": 8,
   "id": "7ccbec91",
   "metadata": {},
   "outputs": [
    {
     "data": {
      "text/html": [
       "<div>\n",
       "<style scoped>\n",
       "    .dataframe tbody tr th:only-of-type {\n",
       "        vertical-align: middle;\n",
       "    }\n",
       "\n",
       "    .dataframe tbody tr th {\n",
       "        vertical-align: top;\n",
       "    }\n",
       "\n",
       "    .dataframe thead th {\n",
       "        text-align: right;\n",
       "    }\n",
       "</style>\n",
       "<table border=\"1\" class=\"dataframe\">\n",
       "  <thead>\n",
       "    <tr style=\"text-align: right;\">\n",
       "      <th></th>\n",
       "      <th>station_num</th>\n",
       "      <th>Date</th>\n",
       "      <th>Rainfall</th>\n",
       "      <th>Rain code</th>\n",
       "    </tr>\n",
       "  </thead>\n",
       "  <tbody>\n",
       "    <tr>\n",
       "      <th>0</th>\n",
       "      <td>310093</td>\n",
       "      <td>10-2011</td>\n",
       "      <td>1.4</td>\n",
       "      <td>0</td>\n",
       "    </tr>\n",
       "    <tr>\n",
       "      <th>1</th>\n",
       "      <td>310093</td>\n",
       "      <td>11-2011</td>\n",
       "      <td>121.2</td>\n",
       "      <td>0</td>\n",
       "    </tr>\n",
       "    <tr>\n",
       "      <th>2</th>\n",
       "      <td>310093</td>\n",
       "      <td>12-2011</td>\n",
       "      <td>33.2</td>\n",
       "      <td>0</td>\n",
       "    </tr>\n",
       "    <tr>\n",
       "      <th>3</th>\n",
       "      <td>310093</td>\n",
       "      <td>01-2012</td>\n",
       "      <td>257.2</td>\n",
       "      <td>0</td>\n",
       "    </tr>\n",
       "    <tr>\n",
       "      <th>4</th>\n",
       "      <td>310093</td>\n",
       "      <td>02-2012</td>\n",
       "      <td>160.3</td>\n",
       "      <td>0</td>\n",
       "    </tr>\n",
       "    <tr>\n",
       "      <th>...</th>\n",
       "      <td>...</td>\n",
       "      <td>...</td>\n",
       "      <td>...</td>\n",
       "      <td>...</td>\n",
       "    </tr>\n",
       "    <tr>\n",
       "      <th>99</th>\n",
       "      <td>310093</td>\n",
       "      <td>03-2021</td>\n",
       "      <td>36.2</td>\n",
       "      <td>0</td>\n",
       "    </tr>\n",
       "    <tr>\n",
       "      <th>100</th>\n",
       "      <td>310093</td>\n",
       "      <td>04-2021</td>\n",
       "      <td>16.0</td>\n",
       "      <td>0</td>\n",
       "    </tr>\n",
       "    <tr>\n",
       "      <th>101</th>\n",
       "      <td>310093</td>\n",
       "      <td>05-2021</td>\n",
       "      <td>0.0</td>\n",
       "      <td>0</td>\n",
       "    </tr>\n",
       "    <tr>\n",
       "      <th>102</th>\n",
       "      <td>310093</td>\n",
       "      <td>08-2021</td>\n",
       "      <td>0.0</td>\n",
       "      <td>0</td>\n",
       "    </tr>\n",
       "    <tr>\n",
       "      <th>103</th>\n",
       "      <td>310093</td>\n",
       "      <td>09-2021</td>\n",
       "      <td>0.1</td>\n",
       "      <td>0</td>\n",
       "    </tr>\n",
       "  </tbody>\n",
       "</table>\n",
       "<p>104 rows × 4 columns</p>\n",
       "</div>"
      ],
      "text/plain": [
       "     station_num     Date  Rainfall  Rain code\n",
       "0         310093  10-2011       1.4          0\n",
       "1         310093  11-2011     121.2          0\n",
       "2         310093  12-2011      33.2          0\n",
       "3         310093  01-2012     257.2          0\n",
       "4         310093  02-2012     160.3          0\n",
       "..           ...      ...       ...        ...\n",
       "99        310093  03-2021      36.2          0\n",
       "100       310093  04-2021      16.0          0\n",
       "101       310093  05-2021       0.0          0\n",
       "102       310093  08-2021       0.0          0\n",
       "103       310093  09-2021       0.1          0\n",
       "\n",
       "[104 rows x 4 columns]"
      ]
     },
     "execution_count": 8,
     "metadata": {},
     "output_type": "execute_result"
    }
   ],
   "source": [
    "data = pd.read_csv('RainData/Dafna_monthly_rain_11-21.csv')\n",
    "data"
   ]
  },
  {
   "cell_type": "markdown",
   "id": "cc0bf699",
   "metadata": {},
   "source": [
    "The next cell deletes redundant columns, changing the columns name and seperate the year from the month:\n",
    "\n"
   ]
  },
  {
   "cell_type": "code",
   "execution_count": 9,
   "id": "502670e1",
   "metadata": {},
   "outputs": [
    {
     "data": {
      "text/html": [
       "<div>\n",
       "<style scoped>\n",
       "    .dataframe tbody tr th:only-of-type {\n",
       "        vertical-align: middle;\n",
       "    }\n",
       "\n",
       "    .dataframe tbody tr th {\n",
       "        vertical-align: top;\n",
       "    }\n",
       "\n",
       "    .dataframe thead th {\n",
       "        text-align: right;\n",
       "    }\n",
       "</style>\n",
       "<table border=\"1\" class=\"dataframe\">\n",
       "  <thead>\n",
       "    <tr style=\"text-align: right;\">\n",
       "      <th></th>\n",
       "      <th>Rainfall [mm/month]</th>\n",
       "      <th>Month</th>\n",
       "      <th>Year</th>\n",
       "    </tr>\n",
       "  </thead>\n",
       "  <tbody>\n",
       "    <tr>\n",
       "      <th>0</th>\n",
       "      <td>1.4</td>\n",
       "      <td>10</td>\n",
       "      <td>2011</td>\n",
       "    </tr>\n",
       "    <tr>\n",
       "      <th>1</th>\n",
       "      <td>121.2</td>\n",
       "      <td>11</td>\n",
       "      <td>2011</td>\n",
       "    </tr>\n",
       "    <tr>\n",
       "      <th>2</th>\n",
       "      <td>33.2</td>\n",
       "      <td>12</td>\n",
       "      <td>2011</td>\n",
       "    </tr>\n",
       "    <tr>\n",
       "      <th>3</th>\n",
       "      <td>257.2</td>\n",
       "      <td>01</td>\n",
       "      <td>2012</td>\n",
       "    </tr>\n",
       "    <tr>\n",
       "      <th>4</th>\n",
       "      <td>160.3</td>\n",
       "      <td>02</td>\n",
       "      <td>2012</td>\n",
       "    </tr>\n",
       "    <tr>\n",
       "      <th>...</th>\n",
       "      <td>...</td>\n",
       "      <td>...</td>\n",
       "      <td>...</td>\n",
       "    </tr>\n",
       "    <tr>\n",
       "      <th>99</th>\n",
       "      <td>36.2</td>\n",
       "      <td>03</td>\n",
       "      <td>2021</td>\n",
       "    </tr>\n",
       "    <tr>\n",
       "      <th>100</th>\n",
       "      <td>16.0</td>\n",
       "      <td>04</td>\n",
       "      <td>2021</td>\n",
       "    </tr>\n",
       "    <tr>\n",
       "      <th>101</th>\n",
       "      <td>0.0</td>\n",
       "      <td>05</td>\n",
       "      <td>2021</td>\n",
       "    </tr>\n",
       "    <tr>\n",
       "      <th>102</th>\n",
       "      <td>0.0</td>\n",
       "      <td>08</td>\n",
       "      <td>2021</td>\n",
       "    </tr>\n",
       "    <tr>\n",
       "      <th>103</th>\n",
       "      <td>0.1</td>\n",
       "      <td>09</td>\n",
       "      <td>2021</td>\n",
       "    </tr>\n",
       "  </tbody>\n",
       "</table>\n",
       "<p>104 rows × 3 columns</p>\n",
       "</div>"
      ],
      "text/plain": [
       "     Rainfall [mm/month] Month  Year\n",
       "0                    1.4    10  2011\n",
       "1                  121.2    11  2011\n",
       "2                   33.2    12  2011\n",
       "3                  257.2    01  2012\n",
       "4                  160.3    02  2012\n",
       "..                   ...   ...   ...\n",
       "99                  36.2    03  2021\n",
       "100                 16.0    04  2021\n",
       "101                  0.0    05  2021\n",
       "102                  0.0    08  2021\n",
       "103                  0.1    09  2021\n",
       "\n",
       "[104 rows x 3 columns]"
      ]
     },
     "execution_count": 9,
     "metadata": {},
     "output_type": "execute_result"
    }
   ],
   "source": [
    "data = data.iloc[:,1:3] # Deleting redundant columns\n",
    "data.columns = ['Time', 'Rainfall [mm/month]']\n",
    "data['Month'] = data['Time'].apply(lambda time: time.split('-')[0])\n",
    "data['Year'] = data['Time'].apply(lambda time: time.split('-')[1])\n",
    "data.drop(['Time'], inplace=True, axis=1) # Deleting redundant columns\n",
    "data"
   ]
  },
  {
   "cell_type": "markdown",
   "id": "0c04f8e8",
   "metadata": {},
   "source": [
    "Calculating: \n",
    "* Mean monthly rainfall\n",
    "* Std of the monthly rainfall\n",
    "* 80% Dependable Rain according to: Mean - 0.84 $\\times$ Std"
   ]
  },
  {
   "cell_type": "code",
   "execution_count": 10,
   "id": "a0f46936",
   "metadata": {},
   "outputs": [
    {
     "name": "stderr",
     "output_type": "stream",
     "text": [
      "C:\\Users\\User8\\anaconda3\\envs\\Env_2\\lib\\site-packages\\numpy\\core\\fromnumeric.py:3440: RuntimeWarning: Mean of empty slice.\n",
      "  return _methods._mean(a, axis=axis, dtype=dtype,\n",
      "C:\\Users\\User8\\anaconda3\\envs\\Env_2\\lib\\site-packages\\numpy\\core\\_methods.py:189: RuntimeWarning: invalid value encountered in double_scalars\n",
      "  ret = ret.dtype.type(ret / rcount)\n",
      "C:\\Users\\User8\\anaconda3\\envs\\Env_2\\lib\\site-packages\\numpy\\core\\_methods.py:262: RuntimeWarning: Degrees of freedom <= 0 for slice\n",
      "  ret = _var(a, axis=axis, dtype=dtype, out=out, ddof=ddof,\n",
      "C:\\Users\\User8\\anaconda3\\envs\\Env_2\\lib\\site-packages\\numpy\\core\\_methods.py:222: RuntimeWarning: invalid value encountered in true_divide\n",
      "  arrmean = um.true_divide(arrmean, div, out=arrmean, casting='unsafe',\n",
      "C:\\Users\\User8\\anaconda3\\envs\\Env_2\\lib\\site-packages\\numpy\\core\\_methods.py:254: RuntimeWarning: invalid value encountered in double_scalars\n",
      "  ret = ret.dtype.type(ret / rcount)\n"
     ]
    },
    {
     "data": {
      "text/html": [
       "<div>\n",
       "<style scoped>\n",
       "    .dataframe tbody tr th:only-of-type {\n",
       "        vertical-align: middle;\n",
       "    }\n",
       "\n",
       "    .dataframe tbody tr th {\n",
       "        vertical-align: top;\n",
       "    }\n",
       "\n",
       "    .dataframe thead th {\n",
       "        text-align: right;\n",
       "    }\n",
       "</style>\n",
       "<table border=\"1\" class=\"dataframe\">\n",
       "  <thead>\n",
       "    <tr style=\"text-align: right;\">\n",
       "      <th></th>\n",
       "      <th>Monthly Rain Mean [mm]</th>\n",
       "      <th>Monthly Rain Std [mm]</th>\n",
       "      <th>80% Dependable Rain [mm]</th>\n",
       "    </tr>\n",
       "    <tr>\n",
       "      <th>Month</th>\n",
       "      <th></th>\n",
       "      <th></th>\n",
       "      <th></th>\n",
       "    </tr>\n",
       "  </thead>\n",
       "  <tbody>\n",
       "    <tr>\n",
       "      <th>1</th>\n",
       "      <td>179.130000</td>\n",
       "      <td>74.122615</td>\n",
       "      <td>116.867003</td>\n",
       "    </tr>\n",
       "    <tr>\n",
       "      <th>2</th>\n",
       "      <td>92.070000</td>\n",
       "      <td>49.357270</td>\n",
       "      <td>50.609893</td>\n",
       "    </tr>\n",
       "    <tr>\n",
       "      <th>3</th>\n",
       "      <td>57.750000</td>\n",
       "      <td>42.919232</td>\n",
       "      <td>21.697845</td>\n",
       "    </tr>\n",
       "    <tr>\n",
       "      <th>4</th>\n",
       "      <td>33.480000</td>\n",
       "      <td>24.784261</td>\n",
       "      <td>12.661221</td>\n",
       "    </tr>\n",
       "    <tr>\n",
       "      <th>5</th>\n",
       "      <td>13.410000</td>\n",
       "      <td>16.514142</td>\n",
       "      <td>-0.461880</td>\n",
       "    </tr>\n",
       "    <tr>\n",
       "      <th>6</th>\n",
       "      <td>5.500000</td>\n",
       "      <td>9.198478</td>\n",
       "      <td>-2.226722</td>\n",
       "    </tr>\n",
       "    <tr>\n",
       "      <th>7</th>\n",
       "      <td>0.000000</td>\n",
       "      <td>0.000000</td>\n",
       "      <td>0.000000</td>\n",
       "    </tr>\n",
       "    <tr>\n",
       "      <th>8</th>\n",
       "      <td>0.122222</td>\n",
       "      <td>0.257241</td>\n",
       "      <td>-0.093860</td>\n",
       "    </tr>\n",
       "    <tr>\n",
       "      <th>9</th>\n",
       "      <td>0.160000</td>\n",
       "      <td>0.237487</td>\n",
       "      <td>-0.039489</td>\n",
       "    </tr>\n",
       "    <tr>\n",
       "      <th>10</th>\n",
       "      <td>19.060000</td>\n",
       "      <td>18.793733</td>\n",
       "      <td>3.273264</td>\n",
       "    </tr>\n",
       "    <tr>\n",
       "      <th>11</th>\n",
       "      <td>68.130000</td>\n",
       "      <td>45.651222</td>\n",
       "      <td>29.782973</td>\n",
       "    </tr>\n",
       "    <tr>\n",
       "      <th>12</th>\n",
       "      <td>124.960000</td>\n",
       "      <td>84.866545</td>\n",
       "      <td>53.672102</td>\n",
       "    </tr>\n",
       "  </tbody>\n",
       "</table>\n",
       "</div>"
      ],
      "text/plain": [
       "       Monthly Rain Mean [mm]  Monthly Rain Std [mm]  80% Dependable Rain [mm]\n",
       "Month                                                                         \n",
       "1                  179.130000              74.122615                116.867003\n",
       "2                   92.070000              49.357270                 50.609893\n",
       "3                   57.750000              42.919232                 21.697845\n",
       "4                   33.480000              24.784261                 12.661221\n",
       "5                   13.410000              16.514142                 -0.461880\n",
       "6                    5.500000               9.198478                 -2.226722\n",
       "7                    0.000000               0.000000                  0.000000\n",
       "8                    0.122222               0.257241                 -0.093860\n",
       "9                    0.160000               0.237487                 -0.039489\n",
       "10                  19.060000              18.793733                  3.273264\n",
       "11                  68.130000              45.651222                 29.782973\n",
       "12                 124.960000              84.866545                 53.672102"
      ]
     },
     "execution_count": 10,
     "metadata": {},
     "output_type": "execute_result"
    }
   ],
   "source": [
    "month_values = np.array(data['Month'], dtype=int) # All data monthes values as integers\n",
    "month_rain_mean = np.array([])\n",
    "month_rain_std = np.array([])\n",
    "\n",
    "for m in range(1,13): # Per each month calculating the mean and std\n",
    "    i = np.where(month_values == m)\n",
    "    mean = np.mean(data['Rainfall [mm/month]'].values[i])\n",
    "    std = np.std(data['Rainfall [mm/month]'].values[i])\n",
    "    month_rain_mean = np.append(month_rain_mean, mean)\n",
    "    month_rain_std = np.append(month_rain_std, std)\n",
    "\n",
    "# Getting rid of nan values where monthes are dry\n",
    "month_rain_mean = np.where(np.isnan(month_rain_mean), 0, month_rain_mean)\n",
    "month_rain_std = np.where(np.isnan(month_rain_std), 0, month_rain_std)\n",
    "\n",
    "# calculating 80% dependable rainfall\n",
    "dep_rain_80 = month_rain_mean - 0.84 * month_rain_std\n",
    "\n",
    "rain_data = pd.DataFrame(np.c_[month_rain_mean, month_rain_std, dep_rain_80],\n",
    "                         index=range(1,13),\n",
    "                         columns=['Monthly Rain Mean [mm]',\n",
    "                                  'Monthly Rain Std [mm]',\n",
    "                                  '80% Dependable Rain [mm]'])\n",
    "rain_data.index.name = 'Month'\n",
    "rain_data"
   ]
  },
  {
   "cell_type": "markdown",
   "id": "78f2b7a6",
   "metadata": {},
   "source": [
    "Let's plot 80% Dependable Rain:"
   ]
  },
  {
   "cell_type": "code",
   "execution_count": 11,
   "id": "034c99a8",
   "metadata": {},
   "outputs": [
    {
     "data": {
      "text/plain": [
       "Text(0.5, 0, 'Month')"
      ]
     },
     "execution_count": 11,
     "metadata": {},
     "output_type": "execute_result"
    },
    {
     "data": {
      "image/png": "[encoded data removed]",
      "text/plain": [
       "<Figure size 720x576 with 1 Axes>"
      ]
     },
     "metadata": {
      "needs_background": "light"
     },
     "output_type": "display_data"
    }
   ],
   "source": [
    "sns.set_context(\"notebook\", font_scale=1.5)\n",
    "fig, axis = plt.subplots(figsize=(10,8))\n",
    "plot_monthly_series(axis, rain_data['80% Dependable Rain [mm]'])\n",
    "axis.set_xlabel('Month')\n",
    "#plt.savefig('dependable_rain.png')"
   ]
  },
  {
   "cell_type": "markdown",
   "id": "d7b2be80",
   "metadata": {},
   "source": [
    "As you can see, during June (where $ET_c$ is maximum) the 80% dependable rain is zero, so there is no need to consider rain at that time.\n",
    "\n",
    "And the next code is for visualizing all of the raw data of monthly rain that we used for this calculation:"
   ]
  },
  {
   "cell_type": "code",
   "execution_count": 12,
   "id": "139ab61e",
   "metadata": {},
   "outputs": [
    {
     "data": {
      "image/png": "[encoded data removed]",
      "text/plain": [
       "<Figure size 1080x288 with 1 Axes>"
      ]
     },
     "metadata": {
      "needs_background": "light"
     },
     "output_type": "display_data"
    }
   ],
   "source": [
    "# Creating the Timestamp column\n",
    "data['Timestamp'] = data[['Year','Month']].apply(lambda x: pd.Timestamp(x[0]+'-'+x[1]+'-01T12'), axis=1)\n",
    "data.drop(['Month', 'Year'], inplace=True, axis=1) # Deleting redundant columns\n",
    "\n",
    "sns.set_context(\"notebook\", font_scale=1.5)\n",
    "fig = plt.figure(figsize=(15,4))\n",
    "\n",
    "bar_width = pd.Timedelta(days=28)\n",
    "color_indices = data['Timestamp'].apply(lambda x: x.month) - 1 # Indices to choose from colors\n",
    "\n",
    "plt.bar(data['Timestamp'],\n",
    "        data['Rainfall [mm/month]'],\n",
    "        width=bar_width,\n",
    "        color=COLORS[color_indices],\n",
    "        edgecolor='black',\n",
    "        lw=1)\n",
    "plt.grid(axis='x')\n",
    "\n",
    "# Adding legend by creating patches without plotting them\n",
    "handles = []\n",
    "for m in range(1,13): # For every month\n",
    "    patch = mpatches.Patch(color=COLORS[m-1], label=str(m))\n",
    "    handles.append(patch)\n",
    "fig.legend(handles=handles)\n",
    "\n",
    "plt.xlabel('Time')\n",
    "plt.ylabel('Monthly Rainfall [mm/month]')\n",
    "plt.tight_layout()\n",
    "#plt.savefig('rain_data.png')"
   ]
  },
  {
   "cell_type": "markdown",
   "id": "8b4d413a",
   "metadata": {},
   "source": [
    "****\n",
    "## Maximum Irrigation Demand\n",
    "****\n",
    "\n",
    "According to:\n",
    "\n",
    "$\\displaystyle IR_n = ET_c - (Pe + Ge + Wb) + LR_{mm}$\n",
    "\n",
    "$\\displaystyle IR_b = \\frac{IR_n}{E}$\n",
    "\n",
    "In the maximum state, we use values of:\n",
    "* Maximum $ET_c=5.78$ mm/day\n",
    "* Corresponding effective rainfall $Pe=0$ mm/day. Due to 80% Dependable Rain = 0.\n",
    "* No salts washing\n",
    "* $Ge, Wb \\approx 0$ mm/day\n",
    "* Assuming $E\\approx90 \\%$ according to the fact that we use localized irrigation system."
   ]
  },
  {
   "cell_type": "code",
   "execution_count": 13,
   "id": "c625cb06",
   "metadata": {},
   "outputs": [
    {
     "data": {
      "text/plain": [
       "6.422222222222222"
      ]
     },
     "execution_count": 13,
     "metadata": {},
     "output_type": "execute_result"
    }
   ],
   "source": [
    "IRn = max(ETc) \n",
    "IRb = IRn / 0.9\n",
    "IRb"
   ]
  },
  {
   "cell_type": "markdown",
   "id": "c5f5a8cf",
   "metadata": {},
   "source": [
    "$IR_b = 6.42$ mm/day."
   ]
  },
  {
   "cell_type": "markdown",
   "id": "480f026c",
   "metadata": {},
   "source": [
    "****\n",
    "## $d_x$ Calculation\n",
    "****\n",
    "\n",
    "In soil testing course, a relative similar soil to our was measured (Randazina from Ravid). Some of the measurements are:\n",
    "\n",
    "* Field Capacity: 37.6 $\\frac{g_\\text{water}}{g_\\text{soil}}$\n",
    "* Permanent Wilting Point: 10.2 $\\frac{g_\\text{water}}{g_\\text{soil}}$\n",
    "* Bulk Density: $D_b$ = 1.15\n",
    "\n",
    "So in order to get the volumetric water content we need to use:\n",
    "\n",
    "$\\displaystyle \\theta_v =D_b \\times \\frac{\\theta_w}{D_\\text{water}} $"
   ]
  },
  {
   "cell_type": "code",
   "execution_count": 14,
   "id": "ef3c5aee",
   "metadata": {},
   "outputs": [
    {
     "data": {
      "text/plain": [
       "(0.43239999999999995, 0.11729999999999999)"
      ]
     },
     "execution_count": 14,
     "metadata": {},
     "output_type": "execute_result"
    }
   ],
   "source": [
    "Db = 1.15\n",
    "FC_w = 0.376 # [-] Field Capacity - weight fraction\n",
    "PWP_w = 0.102 # [-] Permanent Wilting Point - weight fraction\n",
    "\n",
    "FC = Db * FC_w # [-] Field Capacity - volumetric fraction\n",
    "PWP = Db * PWP_w # [-] Permanent Wilting Point - volumetric fraction\n",
    "\n",
    "(FC, PWP)"
   ]
  },
  {
   "cell_type": "code",
   "execution_count": 15,
   "id": "068c7016",
   "metadata": {},
   "outputs": [
    {
     "data": {
      "text/plain": [
       "315.0999999999999"
      ]
     },
     "execution_count": 15,
     "metadata": {},
     "output_type": "execute_result"
    }
   ],
   "source": [
    "TAM = (FC - PWP) * 1e3 # from [m/m] to [mm/m]\n",
    "TAM "
   ]
  },
  {
   "cell_type": "markdown",
   "id": "f643e653",
   "metadata": {},
   "source": [
    "* Field Capacity: **$\\color{pink}{\\text{FC = 432 mm/m}}$**\n",
    "* Permanent Wilting Point: **$\\color{pink}{\\text{PWP = 117 mm/m}}$**\n",
    "\n",
    "So:\n",
    "* Total Available Moisture: **$\\color{pink}{\\text{TAM = 315 mm/m}}$**.\n",
    "* Accoding to [Bender and Faber](https://ucanr.edu/sites/alternativefruits/files/166631.pdf), MAD = 30-50%. However, it's recommended to use 50% for heavy soils. So **$\\color{pink}{\\text{MAD = 50%}}$**.\n",
    "* According to ([Salgado and Cautin, 2008](https://www.sciencedirect.com/science/article/pii/S0378377408000516?casa_token=uqF60wXjMw8AAAAA:olQdXg7JNnKy8DoC9ARB5q-cBPuzWPwXzG93-os0vRD2fnoMY0g79aNHI64DTB88NeMyySr1)), Z=0.3-0.6 m. So **$\\color{pink}{\\text{Z = 0.5 m}}$**.\n",
    "\n",
    "In adidition, we need to consdier $P_w$ according to:\n",
    "\n",
    "$\\displaystyle P_w = \n",
    "\\begin{cases}\n",
    "  100 \\frac{N_pS_ew}{S_pS_r} & \\text{if} &  S_e < 0.8w  \\\\\n",
    "  100 \\frac{0.8N_pw^2}{S_pS_r} & \\text{if} & S_e \\ge 0.8w\n",
    "\\end{cases}$\n",
    "\n",
    "According to the [FAO](https://www.fao.org/3/ai598e/ai598e.pdf), in the absence of locally available data on the wetted patterns of one emmiter, we can use the area wetted by one emitter as depending on soil type according to:\n",
    "\n",
    "| Soil Type | Area wetted by one emitter (m$^2$) |\n",
    "|-----------|------------------------------------|\n",
    "| Sandy     | 0.5-2                              |\n",
    "| Loam      | 2-6                                |\n",
    "| Clay      | 6-15                               |\n",
    "\n",
    "We consider our soil as clay  A$_\\text{wet}$ = 6 - 15 m$^2$. The diameter of the area is:\n",
    "\n",
    "D$=\\sqrt{4\\times\\text{A}_\\text{wet}/\\pi}=2.76 - 4.71$ m. We will take value of 3 m $\\rightarrow$ **$\\color{pink}{w = 3 \\text{m}}$**\n",
    "\n",
    "According to locally available data:\n",
    "* The usually space between emitters: $\\color{pink}{S_e = 0.4 \\text{m}}$.\n",
    "* The space between trees and rows is $\\color{pink}{S_p=3\\text{m}}$ and $\\color{pink}{S_r=6\\text{m}}$ respectively.\n",
    "* The number of emitters per tree depends on the development stage. According to ([Salgado and Cautin, 2008](https://www.sciencedirect.com/science/article/pii/S0378377408000516?casa_token=uqF60wXjMw8AAAAA:olQdXg7JNnKy8DoC9ARB5q-cBPuzWPwXzG93-os0vRD2fnoMY0g79aNHI64DTB88NeMyySr1)), roots distribution is pretty wide, we'll take $\\color{pink}{N_p=5\\text{m}}$ as an average."
   ]
  },
  {
   "cell_type": "code",
   "execution_count": 16,
   "id": "7a226881",
   "metadata": {},
   "outputs": [
    {
     "data": {
      "text/plain": [
       "33.333333333333336"
      ]
     },
     "execution_count": 16,
     "metadata": {},
     "output_type": "execute_result"
    }
   ],
   "source": [
    "w = 3\n",
    "Se = 0.4\n",
    "Sp = 3\n",
    "Sr = 6\n",
    "Np = 5\n",
    "\n",
    "Pw = 100 * (Np * Se * w) / (Sp * Sr)\n",
    "Pw"
   ]
  },
  {
   "cell_type": "markdown",
   "id": "a02d2481",
   "metadata": {},
   "source": [
    "So we use 33.33% as the value of the wet area in the field.\n",
    "\n",
    "According to:\n",
    "\n",
    "$\\displaystyle d_x = \\text{MAD}\\times\\text{TAM}\\times\\text{Z}\\times\\frac{P_w}{100}$"
   ]
  },
  {
   "cell_type": "code",
   "execution_count": 17,
   "id": "3c9883e0",
   "metadata": {},
   "outputs": [
    {
     "data": {
      "text/plain": [
       "26.258333333333326"
      ]
     },
     "execution_count": 17,
     "metadata": {},
     "output_type": "execute_result"
    }
   ],
   "source": [
    "MAD = 0.5 # [-]\n",
    "Z = 0.5 # [m]\n",
    "dx = MAD * TAM * Z * Pw / 100\n",
    "dx # [mm]"
   ]
  },
  {
   "cell_type": "markdown",
   "id": "acfb1917",
   "metadata": {},
   "source": [
    "$\\color{pink}{d_x=\\text{26.26 mm}}$.\n",
    "\n",
    "We can calculate now the flow per irrigation by:\n",
    "\n",
    "$\\displaystyle Q = d_x \\times A$"
   ]
  },
  {
   "cell_type": "code",
   "execution_count": 18,
   "id": "6139d8e4",
   "metadata": {},
   "outputs": [
    {
     "data": {
      "text/plain": [
       "528.7640583333332"
      ]
     },
     "execution_count": 18,
     "metadata": {},
     "output_type": "execute_result"
    }
   ],
   "source": [
    "A = 20137 # [m^2]\n",
    "Q = dx * 1e-3 * A # [m^3/irr]\n",
    "Q"
   ]
  },
  {
   "cell_type": "markdown",
   "id": "340756c9",
   "metadata": {},
   "source": [
    "$\\color{pink}{Q = 528.76\\text{ m}^3/\\text{irrigation}}$\n",
    "\n",
    "The irrigation frequency is calculated by:\n",
    "\n",
    "$\\displaystyle f_x = \\frac{d_x}{IR_b}$"
   ]
  },
  {
   "cell_type": "code",
   "execution_count": 19,
   "id": "284fd3e7",
   "metadata": {},
   "outputs": [
    {
     "data": {
      "text/plain": [
       "4.088667820069204"
      ]
     },
     "execution_count": 19,
     "metadata": {},
     "output_type": "execute_result"
    }
   ],
   "source": [
    "fx = dx / IRb\n",
    "fx"
   ]
  },
  {
   "cell_type": "markdown",
   "id": "23c5a214",
   "metadata": {},
   "source": [
    "$f_x \\approx 4 \\text{ days}$\n",
    "\n",
    "So we going to reduce 3 - 2 days to get a frequency of $\\color{pink}{f_x \\approx 2 \\text{ to } 1 \\text{ days}}$"
   ]
  },
  {
   "cell_type": "markdown",
   "id": "2c85891a",
   "metadata": {},
   "source": [
    "****\n",
    "## Map\n",
    "****\n",
    "\n",
    "We used the [GovMap]([https://www.govmap.gov.il/) website with the [WebPlotDigitizer](https://automeris.io/WebPlotDigitizer/) in order to get the coordinate data of our plot which is according to this plot:"
   ]
  },
  {
   "cell_type": "code",
   "execution_count": 20,
   "id": "586ca184",
   "metadata": {},
   "outputs": [
    {
     "data": {
      "image/png": "[encoded data removed]",
      "text/plain": [
       "<Figure size 432x288 with 1 Axes>"
      ]
     },
     "metadata": {
      "needs_background": "light"
     },
     "output_type": "display_data"
    }
   ],
   "source": [
    "plt.figure()\n",
    "x = np.load('CoordinatesData/x.npy')\n",
    "y = np.load('CoordinatesData/y.npy')\n",
    "z = np.load('CoordinatesData/z.npy')\n",
    "plt.contourf(x, y, z)\n",
    "plt.ticklabel_format(useOffset=False)\n",
    "plt.xlabel('X coordinates')\n",
    "plt.ylabel('Y coordinates')\n",
    "plt.tight_layout()\n",
    "\n",
    "out_of_bound_i = np.argwhere(z == 0)"
   ]
  },
  {
   "cell_type": "markdown",
   "id": "2bb527ab",
   "metadata": {},
   "source": [
    "Then from the contour lines of altitude in the original map we sample points of 160, 165, 170 and 175 to interpolate all of the coordinate values. The interpolation method is piecewise cubic, continuously differentiable (more details [here](https://docs.scipy.org/doc/scipy/reference/generated/scipy.interpolate.CloughTocher2DInterpolator.html#scipy.interpolate.CloughTocher2DInterpolator))."
   ]
  },
  {
   "cell_type": "code",
   "execution_count": 23,
   "id": "838226a3",
   "metadata": {},
   "outputs": [
    {
     "data": {
      "text/plain": [
       "([<matplotlib.axis.XTick at 0x1b6349fd670>,\n",
       "  <matplotlib.axis.XTick at 0x1b6349fd940>],\n",
       " [Text(259900, 0, '259900'), Text(260000, 0, '260000')])"
      ]
     },
     "execution_count": 23,
     "metadata": {},
     "output_type": "execute_result"
    },
    {
     "data": {
      "image/png": "[encoded data removed]",
      "text/plain": [
       "<Figure size 1080x576 with 2 Axes>"
      ]
     },
     "metadata": {
      "needs_background": "light"
     },
     "output_type": "display_data"
    }
   ],
   "source": [
    "from scipy.interpolate import griddata\n",
    "\n",
    "# Aranging the observed data for interpolation\n",
    "valued_z = []\n",
    "valued_xy = []\n",
    "for contour_value in [160,165,170,175]:\n",
    "    data = pd.read_csv('AltitudeData/{}contour.csv'.format(contour_value))\n",
    "    for instance in data.values:\n",
    "        valued_xy.append(instance)\n",
    "        valued_z.append(contour_value)\n",
    "valued_z = np.array(valued_z)\n",
    "valued_xy = np.array(valued_xy)\n",
    "\n",
    "# Plotting + Interpolation\n",
    "fig, axis = plt.subplots(figsize=(15,8))\n",
    "xy = np.c_[x.flatten(),y.flatten()]\n",
    "altitude = griddata(valued_xy, valued_z, xy, 'cubic').reshape(z.shape) # Interpolation\n",
    "altitude[out_of_bound_i[:,0],out_of_bound_i[:,1]] = np.nan\n",
    "cs_contourf = plt.contourf(x,y,altitude,1000, cmap='afmhot_r',vmax=190)\n",
    "clabel = plt.contour(x,y,altitude,[165,167.5,170,172.5],\n",
    "                     colors='red',\n",
    "                     linestyles='dashed')\n",
    "plt.ticklabel_format(useOffset=False)\n",
    "\n",
    "cbar = fig.colorbar(cs_contourf, ticks=[165, 167.5, 170, 172.5])\n",
    "cbar.ax.set_yticklabels([165, 167.5, 170, 172.5], color='red')\n",
    "cbar.set_label('Altitude [m]')\n",
    "\n",
    "plt.contour(x, y, z,colors='black', linewidths =1.5)\n",
    "plt.xlabel('X coordinates')\n",
    "plt.ylabel('Y coordinates')\n",
    "plt.tight_layout()\n",
    "axis.set_aspect('equal', 'box')\n",
    "plt.ylim(794100, 794450)\n",
    "plt.xlim(259890, 260020)\n",
    "plt.xticks(ticks=[259900,260000], labels=[259900,260000])\n",
    "#plt.savefig('map.png')"
   ]
  },
  {
   "cell_type": "markdown",
   "id": "0a6968fb",
   "metadata": {},
   "source": [
    "# NOTE\n",
    "\n",
    "For the next notebooks, we save all of the necessary functions in Functions.py so we won't have to write all of the code one again."
   ]
  }
 ],
 "metadata": {
  "kernelspec": {
   "display_name": "Python 3 (ipykernel)",
   "language": "python",
   "name": "python3"
  },
  "language_info": {
   "codemirror_mode": {
    "name": "ipython",
    "version": 3
   },
   "file_extension": ".py",
   "mimetype": "text/x-python",
   "name": "python",
   "nbconvert_exporter": "python",
   "pygments_lexer": "ipython3",
   "version": "3.8.12"
  }
 },
 "nbformat": 4,
 "nbformat_minor": 5
}
